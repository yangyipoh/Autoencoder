{
 "cells": [
  {
   "attachments": {},
   "cell_type": "markdown",
   "metadata": {},
   "source": [
    "## Autoencoder"
   ]
  },
  {
   "cell_type": "code",
   "execution_count": 29,
   "metadata": {},
   "outputs": [],
   "source": [
    "import torch\n",
    "import torch.nn as nn\n",
    "import torch.optim as optim\n",
    "\n",
    "import torchvision.transforms as transforms\n",
    "from torchvision.datasets import MNIST\n",
    "import torch.utils.data.dataloader as dataloader\n",
    "from torch.utils.data.dataset import Dataset\n",
    "\n",
    "from IPython.display import clear_output\n",
    "import matplotlib.pyplot as plt\n",
    "import numpy as np\n",
    "import time\n",
    "import random"
   ]
  },
  {
   "cell_type": "code",
   "execution_count": 30,
   "metadata": {},
   "outputs": [
    {
     "data": {
      "text/plain": [
       "<torch._C.Generator at 0x7fa1e41d4810>"
      ]
     },
     "execution_count": 30,
     "metadata": {},
     "output_type": "execute_result"
    }
   ],
   "source": [
    "GPU_indx = 0\n",
    "device = torch.device(GPU_indx if torch.cuda.is_available() else 'cpu')\n",
    "torch.manual_seed(0)"
   ]
  },
  {
   "attachments": {},
   "cell_type": "markdown",
   "metadata": {},
   "source": [
    "## Download MNIST dataset"
   ]
  },
  {
   "cell_type": "code",
   "execution_count": 31,
   "metadata": {},
   "outputs": [],
   "source": [
    "class MNIST_Dataset(Dataset):\n",
    "    def __init__(self, dataset, train_type='normal'):\n",
    "        super().__init__()\n",
    "        self.dataset = dataset\n",
    "        self.train_type = train_type\n",
    "        self.transform = transforms.Compose([\n",
    "            transforms.GaussianBlur(5, sigma=1.2)\n",
    "        ])\n",
    "\n",
    "    def __getitem__(self, idx):\n",
    "        lbl, _ = self.dataset[idx]\n",
    "        img = torch.clone(lbl)\n",
    "        if self.train_type == 'occlude':\n",
    "            r_size = 12\n",
    "            r_idx = int(random.random()*(27-r_size))\n",
    "            c_idx = int(random.random()*(27-r_size))\n",
    "            img[0, r_idx:r_idx+r_size, c_idx:c_idx+r_size] = torch.zeros(r_size)\n",
    "        elif self.train_type == 'blur':\n",
    "            img = self.transform(img)\n",
    "        return img, lbl\n",
    "\n",
    "\n",
    "    def __len__(self):\n",
    "        return len(self.dataset)"
   ]
  },
  {
   "cell_type": "code",
   "execution_count": 34,
   "metadata": {},
   "outputs": [],
   "source": [
    "batch_size = 256\n",
    "\n",
    "#Create a train and test dataset using the Pytorch MNIST dataloader class\n",
    "train = MNIST('./data', train=True,  download=True, transform=transforms.ToTensor())\n",
    "test  = MNIST('./data', train=False, download=True, transform=transforms.ToTensor())\n",
    "\n",
    "train_type = 'occlude'\n",
    "dataset_train = MNIST_Dataset(train, train_type=train_type)\n",
    "dataset_test = MNIST_Dataset(test, train_type=train_type)\n",
    "\n",
    "#Using the Pytorch dataloader class and the Pytorch datasets we with create itterable dataloader objects\n",
    "dataloader_train = dataloader.DataLoader(dataset_train, shuffle=True, batch_size=batch_size, num_workers=0, pin_memory=False) \n",
    "dataloader_test = dataloader.DataLoader(dataset_test, shuffle=True, batch_size=batch_size, num_workers=0, pin_memory=False)"
   ]
  },
  {
   "cell_type": "code",
   "execution_count": 37,
   "metadata": {},
   "outputs": [
    {
     "data": {
      "image/png": "[encoded data removed]",
      "text/plain": [
       "<Figure size 640x480 with 2 Axes>"
      ]
     },
     "metadata": {},
     "output_type": "display_data"
    }
   ],
   "source": [
    "image, lbl = next(iter(dataloader_train))\n",
    "plt.subplot(1, 2, 1)\n",
    "plt.imshow(image[0, 0, :])\n",
    "plt.axis('off')\n",
    "\n",
    "plt.subplot(1, 2, 2)\n",
    "plt.imshow(lbl[0, 0, :])\n",
    "plt.axis('off')\n",
    "plt.show()"
   ]
  },
  {
   "attachments": {},
   "cell_type": "markdown",
   "metadata": {},
   "source": [
    "## Create Model"
   ]
  },
  {
   "cell_type": "code",
   "execution_count": 19,
   "metadata": {},
   "outputs": [],
   "source": [
    "# Model adapted from [https://medium.com/dataseries/convolutional-autoencoder-in-pytorch-on-mnist-dataset-d65145c132ac](https://medium.com/dataseries/convolutional-autoencoder-in-pytorch-on-mnist-dataset-d65145c132ac)\n",
    "\n",
    "class Encoder(nn.Module):\n",
    "    def __init__(self, bottleneck):\n",
    "        super().__init__()\n",
    "        self.conv = nn.Sequential(\n",
    "            nn.Conv2d( 1,  8, 3, stride=2, padding=1),   # in_channel=1,out_channel=4, kernel_size=3\n",
    "            nn.BatchNorm2d(8),\n",
    "            nn.ReLU(True),\n",
    "            nn.Conv2d( 8,  24, 3, stride=2, padding=1),   # in_channel=4,out_channel=8, kernel_size=3\n",
    "            nn.BatchNorm2d(8),\n",
    "            nn.ReLU(True),\n",
    "            nn.Conv2d(24, 48, 3, stride=2, padding=0),   # in_channel=8,out_channel=16,kernel_size=3\n",
    "        )\n",
    "        self.flatten = nn.Flatten()\n",
    "        self.linear = nn.Sequential(\n",
    "            nn.Linear(48*3*3, 64),\n",
    "            nn.BatchNorm1d(128),\n",
    "            nn.ReLU(True),\n",
    "            nn.Linear(128, bottleneck),\n",
    "        )\n",
    "        \n",
    "    def forward(self, x):\n",
    "        x = self.conv(x)\n",
    "        x = self.flatten(x)\n",
    "        x = self.linear(x)\n",
    "        x = torch.sigmoid(x)    # bound output to be between 0 and 1 so that latent code is bounded\n",
    "        return x\n",
    "\n",
    "\n",
    "class Decoder(nn.Module):\n",
    "    def __init__(self, bottleneck):\n",
    "        super().__init__()\n",
    "        self.linear = nn.Sequential(\n",
    "            nn.Linear(bottleneck, 64),\n",
    "            nn.BatchNorm1d(64),\n",
    "            nn.ReLU(True),\n",
    "            nn.Linear(64, 3*3*16),\n",
    "        )\n",
    "        self.unflatten = nn.Unflatten(1, (16, 3, 3))\n",
    "        self.conv = nn.Sequential(\n",
    "            nn.ConvTranspose2d(16, 8, 3, stride=2, padding=0),\n",
    "            nn.BatchNorm2d(8),\n",
    "            nn.ReLU(True),\n",
    "            nn.ConvTranspose2d(8,  4, 3, stride=2, padding=1, output_padding=1),\n",
    "            nn.BatchNorm2d(4),\n",
    "            nn.ReLU(True),\n",
    "            nn.ConvTranspose2d(4,  1, 3, stride=2, padding=1, output_padding=1),\n",
    "        )\n",
    "\n",
    "    def forward(self, x):\n",
    "        x = self.linear(x)\n",
    "        x = self.unflatten(x)\n",
    "        x = self.conv(x)\n",
    "        x = torch.sigmoid(x)    # bound output to be between 0 and 1 for displaying image\n",
    "        return x\n",
    "\n",
    "\n",
    "class Autoencoder(nn.Module):\n",
    "    def __init__(self, bottleneck):\n",
    "        super().__init__()\n",
    "        self.downsample = Encoder(bottleneck)\n",
    "        self.upsample = Decoder(bottleneck)\n",
    "\n",
    "    def forward(self, x):\n",
    "        x = self.downsample(x)\n",
    "        x = self.upsample(x)\n",
    "        return x\n",
    "\n",
    "    def forward_encode(self, x):\n",
    "        x = self.downsample(x)\n",
    "        return x\n",
    "\n",
    "    def forward_decode(self, x):\n",
    "        x = self.upsample(x)\n",
    "        return x"
   ]
  },
  {
   "cell_type": "code",
   "execution_count": 20,
   "metadata": {},
   "outputs": [
    {
     "name": "stdout",
     "output_type": "stream",
     "text": [
      "Autoencoder(\n",
      "  (downsample): Encoder(\n",
      "    (conv): Sequential(\n",
      "      (0): Conv2d(1, 4, kernel_size=(3, 3), stride=(2, 2), padding=(1, 1))\n",
      "      (1): BatchNorm2d(4, eps=1e-05, momentum=0.1, affine=True, track_running_stats=True)\n",
      "      (2): ReLU(inplace=True)\n",
      "      (3): Conv2d(4, 8, kernel_size=(3, 3), stride=(2, 2), padding=(1, 1))\n",
      "      (4): BatchNorm2d(8, eps=1e-05, momentum=0.1, affine=True, track_running_stats=True)\n",
      "      (5): ReLU(inplace=True)\n",
      "      (6): Conv2d(8, 16, kernel_size=(3, 3), stride=(2, 2))\n",
      "    )\n",
      "    (flatten): Flatten(start_dim=1, end_dim=-1)\n",
      "    (linear): Sequential(\n",
      "      (0): Linear(in_features=144, out_features=64, bias=True)\n",
      "      (1): BatchNorm1d(64, eps=1e-05, momentum=0.1, affine=True, track_running_stats=True)\n",
      "      (2): ReLU(inplace=True)\n",
      "      (3): Linear(in_features=64, out_features=16, bias=True)\n",
      "    )\n",
      "  )\n",
      "  (upsample): Decoder(\n",
      "    (linear): Sequential(\n",
      "      (0): Linear(in_features=16, out_features=64, bias=True)\n",
      "      (1): BatchNorm1d(64, eps=1e-05, momentum=0.1, affine=True, track_running_stats=True)\n",
      "      (2): ReLU(inplace=True)\n",
      "      (3): Linear(in_features=64, out_features=144, bias=True)\n",
      "    )\n",
      "    (unflatten): Unflatten(dim=1, unflattened_size=(16, 3, 3))\n",
      "    (conv): Sequential(\n",
      "      (0): ConvTranspose2d(16, 8, kernel_size=(3, 3), stride=(2, 2))\n",
      "      (1): BatchNorm2d(8, eps=1e-05, momentum=0.1, affine=True, track_running_stats=True)\n",
      "      (2): ReLU(inplace=True)\n",
      "      (3): ConvTranspose2d(8, 4, kernel_size=(3, 3), stride=(2, 2), padding=(1, 1), output_padding=(1, 1))\n",
      "      (4): BatchNorm2d(4, eps=1e-05, momentum=0.1, affine=True, track_running_stats=True)\n",
      "      (5): ReLU(inplace=True)\n",
      "      (6): ConvTranspose2d(4, 1, kernel_size=(3, 3), stride=(2, 2), padding=(1, 1), output_padding=(1, 1))\n",
      "    )\n",
      "  )\n",
      ")\n"
     ]
    }
   ],
   "source": [
    "n_epochs = 30\n",
    "lr = 1e-3\n",
    "\n",
    "model = Autoencoder(bottleneck=16).to(device)\n",
    "optimiser = optim.Adam(model.parameters(), lr=lr, weight_decay=1e-5)\n",
    "loss_fn = nn.MSELoss()\n",
    "print(model)"
   ]
  },
  {
   "attachments": {},
   "cell_type": "markdown",
   "metadata": {},
   "source": [
    "## Model Training"
   ]
  },
  {
   "cell_type": "code",
   "execution_count": 21,
   "metadata": {},
   "outputs": [],
   "source": [
    "# Generic training algorithm structure (changed loss function calculation)\n",
    "def model_train(model, dataloader, loss_fn, optimiser, device):\n",
    "    model.train()\n",
    "    train_loss = []\n",
    "    for image, lbl in dataloader:\n",
    "        # forward pass\n",
    "        output = model(image.to(device))\n",
    "\n",
    "        # loss\n",
    "        loss = loss_fn(output, lbl.to(device))\n",
    "\n",
    "        # backpropagation\n",
    "        optimiser.zero_grad()\n",
    "        loss.backward()\n",
    "        optimiser.step()\n",
    "\n",
    "        train_loss.append(loss.detach().cpu().numpy())\n",
    "    return np.mean(train_loss)"
   ]
  },
  {
   "cell_type": "code",
   "execution_count": 9,
   "metadata": {},
   "outputs": [],
   "source": [
    "# Generic testing algorithm (changed loss function calculation)\n",
    "def model_eval(model, dataloader, loss_fn, device):\n",
    "    model.eval()\n",
    "    test_loss = []\n",
    "    with torch.no_grad():\n",
    "        for image, lbl in dataloader:\n",
    "            output = model(image.to(device))\n",
    "            loss = loss_fn(output, lbl.to(device))\n",
    "            test_loss.append(loss.detach().cpu().numpy())\n",
    "    return np.mean(test_loss)"
   ]
  },
  {
   "cell_type": "code",
   "execution_count": 10,
   "metadata": {},
   "outputs": [],
   "source": [
    "def ae_outputs(model, dataloader, device, n=5):\n",
    "    plt.figure(figsize=(12, 4.5))\n",
    "    image, _ = next(iter(dataloader))\n",
    "    model.eval()\n",
    "    output = model(image.to(device))\n",
    "    with torch.no_grad():\n",
    "        for i in range(n): \n",
    "            plt.subplot(2, n, i+1)\n",
    "            plt.imshow(image[i, 0, :, :])\n",
    "            plt.axis('off')\n",
    "            \n",
    "            plt.subplot(2, n, n+i+1)\n",
    "            plt.imshow(output.cpu().numpy()[i, 0, :, :])\n",
    "            plt.axis('off')\n",
    "    plt.show()"
   ]
  },
  {
   "cell_type": "code",
   "execution_count": 22,
   "metadata": {},
   "outputs": [
    {
     "name": "stdout",
     "output_type": "stream",
     "text": [
      "[Epoch 30/30] Train Loss: 0.0222, Val Loss: 0.0222, Time: 15.2203s\n"
     ]
    },
    {
     "data": {
      "image/png": "[encoded data removed]",
      "text/plain": [
       "<Figure size 1200x450 with 10 Axes>"
      ]
     },
     "metadata": {},
     "output_type": "display_data"
    }
   ],
   "source": [
    "total_train_loss = []\n",
    "total_val_loss = []\n",
    "for idx in range(n_epochs):\n",
    "    clear_output(True)\n",
    "    start_time = time.time()\n",
    "    train_loss = model_train(model, dataloader_train, loss_fn, optimiser, device)\n",
    "    val_loss = model_eval(model, dataloader_test, loss_fn, device)\n",
    "    total_time = time.time() - start_time\n",
    "    print(f'[Epoch {idx+1}/{n_epochs}] Train Loss: {train_loss:.4f}, Val Loss: {val_loss:.4f}, Time: {total_time:.4f}s')\n",
    "    ae_outputs(model, dataloader_test, device)\n",
    "    total_train_loss.append(train_loss)\n",
    "    total_val_loss.append(val_loss)"
   ]
  },
  {
   "attachments": {},
   "cell_type": "markdown",
   "metadata": {},
   "source": [
    "## Data visualisation"
   ]
  },
  {
   "cell_type": "code",
   "execution_count": 23,
   "metadata": {},
   "outputs": [
    {
     "data": {
      "image/png": "[encoded data removed]",
      "text/plain": [
       "<Figure size 640x480 with 1 Axes>"
      ]
     },
     "metadata": {},
     "output_type": "display_data"
    }
   ],
   "source": [
    "plt.xlabel('Epoch Number')\n",
    "plt.ylabel('Loss')\n",
    "plt.plot(total_train_loss, '-', label = 'Training Loss')\n",
    "plt.plot(total_val_loss, '-', label = 'Validation Loss')\n",
    "plt.legend()\n",
    "plt.show()"
   ]
  },
  {
   "attachments": {},
   "cell_type": "markdown",
   "metadata": {},
   "source": [
    "## Verify if the model is working"
   ]
  },
  {
   "cell_type": "code",
   "execution_count": 28,
   "metadata": {},
   "outputs": [
    {
     "data": {
      "image/png": "[encoded data removed]",
      "text/plain": [
       "<Figure size 1200x450 with 10 Axes>"
      ]
     },
     "metadata": {},
     "output_type": "display_data"
    }
   ],
   "source": [
    "ae_outputs(model, dataloader_test, device)"
   ]
  }
 ],
 "metadata": {
  "kernelspec": {
   "display_name": "nn_test",
   "language": "python",
   "name": "python3"
  },
  "language_info": {
   "codemirror_mode": {
    "name": "ipython",
    "version": 3
   },
   "file_extension": ".py",
   "mimetype": "text/x-python",
   "name": "python",
   "nbconvert_exporter": "python",
   "pygments_lexer": "ipython3",
   "version": "3.9.16 (main, Jan 11 2023, 16:05:54) \n[GCC 11.2.0]"
  },
  "orig_nbformat": 4,
  "vscode": {
   "interpreter": {
    "hash": "753d58e7024b404ae259b098f94447da2bec2fe2715bd781b43452c49e42158e"
   }
  }
 },
 "nbformat": 4,
 "nbformat_minor": 2
}
